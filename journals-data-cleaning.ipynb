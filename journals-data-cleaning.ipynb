{
 "cells": [
  {
   "cell_type": "code",
   "execution_count": 20,
   "metadata": {},
   "outputs": [],
   "source": [
    "import numpy as np\n",
    "import pandas as pd\n",
    "import matplotlib.pyplot as plt\n",
    "import statistics\n",
    "import seaborn as sns\n",
    "%matplotlib inline\n",
    "import statsmodels.api as sm\n",
    "import re\n",
    "import codecs"
   ]
  },
  {
   "cell_type": "code",
   "execution_count": 85,
   "metadata": {},
   "outputs": [
    {
     "name": "stdout",
     "output_type": "stream",
     "text": [
      "              PMID/PMCID Publisher           Journal title  \\\n",
      "0                    NaN       CUP  Psychological Medicine   \n",
      "1             PMC3679557       ACS       Biomacromolecules   \n",
      "2  23043264  PMC3506128        ACS              J Med Chem   \n",
      "3    23438330 PMC3646402       ACS              J Med Chem   \n",
      "4   23438216 PMC3601604        ACS              J Org Chem   \n",
      "\n",
      "                                       Article title  \\\n",
      "0  Reduced parahippocampal cortical thickness in ...   \n",
      "1  Structural characterization of a Model Gram-ne...   \n",
      "2  Fumaroylamino-4,5-epoxymorphinans and related ...   \n",
      "3  Orvinols with mixed kappa/mu opioid receptor a...   \n",
      "4  Regioselective opening of myo-inositol orthoes...   \n",
      "\n",
      "  COST (£) charged to Wellcome (inc VAT when charged)  \n",
      "0                                              £0.00   \n",
      "1                                           £2381.04   \n",
      "2                                            £642.56   \n",
      "3                                            £669.64   \n",
      "4                                            £685.88   \n"
     ]
    }
   ],
   "source": [
    "wellcome = pd.read_csv('C:\\\\Users\\\\kenne\\\\Desktop\\\\WELLCOME_APCspend2013_forThinkful.csv', encoding='latin-1')\n",
    "\n",
    "print(wellcome.head())"
   ]
  },
  {
   "cell_type": "markdown",
   "metadata": {},
   "source": [
    "\n",
    "Determine the five most common journals and the total articles for each.\n",
    "\n",
    "Next, calculate the mean, median, and standard deviation of the open-access cost per article for each journal. \n"
   ]
  },
  {
   "cell_type": "code",
   "execution_count": 86,
   "metadata": {
    "scrolled": true
   },
   "outputs": [
    {
     "data": {
      "text/html": [
       "<div>\n",
       "<style scoped>\n",
       "    .dataframe tbody tr th:only-of-type {\n",
       "        vertical-align: middle;\n",
       "    }\n",
       "\n",
       "    .dataframe tbody tr th {\n",
       "        vertical-align: top;\n",
       "    }\n",
       "\n",
       "    .dataframe thead th {\n",
       "        text-align: right;\n",
       "    }\n",
       "</style>\n",
       "<table border=\"1\" class=\"dataframe\">\n",
       "  <thead>\n",
       "    <tr style=\"text-align: right;\">\n",
       "      <th></th>\n",
       "      <th>PMID/PMCID</th>\n",
       "      <th>Publisher</th>\n",
       "      <th>Journal title</th>\n",
       "      <th>Article title</th>\n",
       "      <th>COST (£) charged to Wellcome (inc VAT when charged)</th>\n",
       "    </tr>\n",
       "  </thead>\n",
       "  <tbody>\n",
       "    <tr>\n",
       "      <th>count</th>\n",
       "      <td>1928</td>\n",
       "      <td>2127</td>\n",
       "      <td>2126</td>\n",
       "      <td>2127</td>\n",
       "      <td>2127</td>\n",
       "    </tr>\n",
       "    <tr>\n",
       "      <th>unique</th>\n",
       "      <td>1880</td>\n",
       "      <td>299</td>\n",
       "      <td>984</td>\n",
       "      <td>2126</td>\n",
       "      <td>1402</td>\n",
       "    </tr>\n",
       "    <tr>\n",
       "      <th>top</th>\n",
       "      <td>-</td>\n",
       "      <td>Elsevier</td>\n",
       "      <td>PLoS One</td>\n",
       "      <td>Exclusive breastfeeding, diarrhoel morbidity a...</td>\n",
       "      <td>£2040.00</td>\n",
       "    </tr>\n",
       "    <tr>\n",
       "      <th>freq</th>\n",
       "      <td>7</td>\n",
       "      <td>387</td>\n",
       "      <td>92</td>\n",
       "      <td>2</td>\n",
       "      <td>94</td>\n",
       "    </tr>\n",
       "  </tbody>\n",
       "</table>\n",
       "</div>"
      ],
      "text/plain": [
       "       PMID/PMCID Publisher Journal title  \\\n",
       "count        1928      2127          2126   \n",
       "unique       1880       299           984   \n",
       "top             -  Elsevier      PLoS One   \n",
       "freq            7       387            92   \n",
       "\n",
       "                                            Article title  \\\n",
       "count                                                2127   \n",
       "unique                                               2126   \n",
       "top     Exclusive breastfeeding, diarrhoel morbidity a...   \n",
       "freq                                                    2   \n",
       "\n",
       "       COST (£) charged to Wellcome (inc VAT when charged)  \n",
       "count                                                2127   \n",
       "unique                                               1402   \n",
       "top                                              £2040.00   \n",
       "freq                                                   94   "
      ]
     },
     "execution_count": 86,
     "metadata": {},
     "output_type": "execute_result"
    }
   ],
   "source": [
    "wellcome.describe(include='all')"
   ]
  },
  {
   "cell_type": "code",
   "execution_count": 87,
   "metadata": {},
   "outputs": [],
   "source": [
    "# Values in the COST (£) charged to Wellcome (inc VAT when charged) column are listed as a string. We will need to convert to numbers.\n",
    "# In the explanation of the data document it states all costs have been converted into £ sterling. We will assume the $ should be £.\n",
    "# We'll place the converted costs into a new column titled 'Cost' and remove the original column.\n",
    "\n",
    "wellcome['Cost'] = wellcome['COST (£) charged to Wellcome (inc VAT when charged)'].str.strip('£').str.strip('$')\n",
    "\n",
    "del wellcome['COST (£) charged to Wellcome (inc VAT when charged)']\n",
    "\n",
    "wellcome['Cost'] = pd.to_numeric(wellcome.Cost)"
   ]
  },
  {
   "cell_type": "code",
   "execution_count": 88,
   "metadata": {},
   "outputs": [
    {
     "name": "stdout",
     "output_type": "stream",
     "text": [
      "              PMID/PMCID Publisher           Journal title  \\\n",
      "0                    NaN       CUP  Psychological Medicine   \n",
      "1             PMC3679557       ACS       Biomacromolecules   \n",
      "2  23043264  PMC3506128        ACS              J Med Chem   \n",
      "3    23438330 PMC3646402       ACS              J Med Chem   \n",
      "4   23438216 PMC3601604        ACS              J Org Chem   \n",
      "\n",
      "                                       Article title     Cost  \n",
      "0  Reduced parahippocampal cortical thickness in ...     0.00  \n",
      "1  Structural characterization of a Model Gram-ne...  2381.04  \n",
      "2  Fumaroylamino-4,5-epoxymorphinans and related ...   642.56  \n",
      "3  Orvinols with mixed kappa/mu opioid receptor a...   669.64  \n",
      "4  Regioselective opening of myo-inositol orthoes...   685.88  \n"
     ]
    }
   ],
   "source": [
    "print(wellcome.head())"
   ]
  },
  {
   "cell_type": "code",
   "execution_count": 89,
   "metadata": {
    "scrolled": true
   },
   "outputs": [
    {
     "data": {
      "image/png": "[encoded data removed]",
      "text/plain": [
       "<Figure size 180x360 with 1 Axes>"
      ]
     },
     "metadata": {},
     "output_type": "display_data"
    }
   ],
   "source": [
    "# Using simple boxplot to see if we have any outliers in our new Cost column.\n",
    "plt.figure(figsize=(2.5, 5))\n",
    "\n",
    "wellcome.boxplot(column=['Cost'])\n",
    "\n",
    "plt.show()"
   ]
  },
  {
   "cell_type": "code",
   "execution_count": 100,
   "metadata": {},
   "outputs": [
    {
     "name": "stdout",
     "output_type": "stream",
     "text": [
      "Empty DataFrame\n",
      "Columns: [PMID/PMCID, Publisher, Journal title, Article title, Cost]\n",
      "Index: []\n"
     ]
    }
   ],
   "source": [
    "# Use this code to check initial outliers and confirm clean-up.\n",
    "\n",
    "cost_outliers = wellcome.loc[lambda df: wellcome['Cost'] > 10000]\n",
    "\n",
    "print(cost_outliers)"
   ]
  },
  {
   "cell_type": "code",
   "execution_count": 91,
   "metadata": {},
   "outputs": [],
   "source": [
    "# We're going to remove the most extreme values (999999.0) in the cost field as they appear to be pure data entry errors and\n",
    "# we can't easily determine what the correct value should be.\n",
    "wellcome.drop(wellcome[(wellcome.Cost > 900000.0)].index, inplace=True)"
   ]
  },
  {
   "cell_type": "code",
   "execution_count": 103,
   "metadata": {},
   "outputs": [],
   "source": [
    "# Now we're left with three outliers (13200.00, 192645.0, 201024.0) that we can convert by correcting the decimal point placement.\n",
    "wellcome.loc[wellcome['PMID/PMCID'] == '3547931', 'Cost'] = 1926.45\n",
    "wellcome.loc[wellcome['PMID/PMCID'] == 'PMC3664409\\n\\n', 'Cost'] = 2010.24\n",
    "wellcome.loc[wellcome['Article title'] == 'Fungal Disease in Britain and the United States 1850-2000', 'Cost'] = 1320.00"
   ]
  },
  {
   "cell_type": "code",
   "execution_count": 104,
   "metadata": {},
   "outputs": [
    {
     "data": {
      "text/html": [
       "<div>\n",
       "<style scoped>\n",
       "    .dataframe tbody tr th:only-of-type {\n",
       "        vertical-align: middle;\n",
       "    }\n",
       "\n",
       "    .dataframe tbody tr th {\n",
       "        vertical-align: top;\n",
       "    }\n",
       "\n",
       "    .dataframe thead th {\n",
       "        text-align: right;\n",
       "    }\n",
       "</style>\n",
       "<table border=\"1\" class=\"dataframe\">\n",
       "  <thead>\n",
       "    <tr style=\"text-align: right;\">\n",
       "      <th></th>\n",
       "      <th>Cost</th>\n",
       "    </tr>\n",
       "  </thead>\n",
       "  <tbody>\n",
       "    <tr>\n",
       "      <th>count</th>\n",
       "      <td>2080.000000</td>\n",
       "    </tr>\n",
       "    <tr>\n",
       "      <th>mean</th>\n",
       "      <td>1821.955197</td>\n",
       "    </tr>\n",
       "    <tr>\n",
       "      <th>std</th>\n",
       "      <td>767.237986</td>\n",
       "    </tr>\n",
       "    <tr>\n",
       "      <th>min</th>\n",
       "      <td>0.000000</td>\n",
       "    </tr>\n",
       "    <tr>\n",
       "      <th>25%</th>\n",
       "      <td>1268.700000</td>\n",
       "    </tr>\n",
       "    <tr>\n",
       "      <th>50%</th>\n",
       "      <td>1851.650000</td>\n",
       "    </tr>\n",
       "    <tr>\n",
       "      <th>75%</th>\n",
       "      <td>2300.817500</td>\n",
       "    </tr>\n",
       "    <tr>\n",
       "      <th>max</th>\n",
       "      <td>6000.000000</td>\n",
       "    </tr>\n",
       "  </tbody>\n",
       "</table>\n",
       "</div>"
      ],
      "text/plain": [
       "              Cost\n",
       "count  2080.000000\n",
       "mean   1821.955197\n",
       "std     767.237986\n",
       "min       0.000000\n",
       "25%    1268.700000\n",
       "50%    1851.650000\n",
       "75%    2300.817500\n",
       "max    6000.000000"
      ]
     },
     "execution_count": 104,
     "metadata": {},
     "output_type": "execute_result"
    }
   ],
   "source": [
    "# The new Cost column is all cleaned up!\n",
    "wellcome.describe()"
   ]
  },
  {
   "cell_type": "code",
   "execution_count": 105,
   "metadata": {},
   "outputs": [],
   "source": [
    "# Now we're going to look at the Journal tile column:\n",
    "\n",
    "# In the event capitalization is inconsistent in the Journal title column, we can cast each string to lower case.\n",
    "wellcome['Journal title'] = wellcome['Journal title'].str.lower()\n",
    "\n",
    "# For example, ACS NANO and ACS Nano are both acs nano and will be group accordingly."
   ]
  },
  {
   "cell_type": "code",
   "execution_count": 106,
   "metadata": {},
   "outputs": [],
   "source": [
    "# We can also strip any whitespace in the Journal title column.\n",
    "wellcome['Journal title'] = wellcome['Journal title'].str.strip()"
   ]
  },
  {
   "cell_type": "code",
   "execution_count": 109,
   "metadata": {},
   "outputs": [],
   "source": [
    "# We can remove any special characters such as : , - _ . / ( ) ; that may be used inconsistently.\n",
    "wellcome['Journal title'] = wellcome['Journal title'].str.replace(':', '')\n",
    "wellcome['Journal title'] = wellcome['Journal title'].str.replace(',', '')\n",
    "wellcome['Journal title'] = wellcome['Journal title'].str.replace('-', '')\n",
    "wellcome['Journal title'] = wellcome['Journal title'].str.replace('_', '')\n",
    "wellcome['Journal title'] = wellcome['Journal title'].str.replace('.', '')\n",
    "wellcome['Journal title'] = wellcome['Journal title'].str.replace('/', '')\n",
    "wellcome['Journal title'] = wellcome['Journal title'].str.replace('(', '')\n",
    "wellcome['Journal title'] = wellcome['Journal title'].str.replace(')', '')\n",
    "wellcome['Journal title'] = wellcome['Journal title'].str.replace(';', '')\n",
    "\n",
    "# For example, BMC Geomics. and BMC Genomics are both bmc genomics."
   ]
  },
  {
   "cell_type": "code",
   "execution_count": 110,
   "metadata": {},
   "outputs": [],
   "source": [
    "# We can also create consistency between 'and' and '&'.\n",
    "wellcome['Journal title'] = wellcome['Journal title'].str.replace('&;', 'and')\n",
    "\n",
    "# For example, Antioxidants & Redox Signaling has been changed to antioxidants and redox signaling like the others."
   ]
  },
  {
   "cell_type": "code",
   "execution_count": 124,
   "metadata": {},
   "outputs": [
    {
     "name": "stdout",
     "output_type": "stream",
     "text": [
      "The five most common journals by article count are:\n",
      "plos one                           183\n",
      "journal of biological chemistry     52\n",
      "neuroimage                          29\n",
      "nucleic acids research              26\n",
      "plos genetics                       22\n",
      "Name: Journal title, dtype: int64\n"
     ]
    }
   ],
   "source": [
    "# You now have a Journal title column where the differences should be limited to how the alphanumeric values were entered.\n",
    "# From here you can search for those deltas and clean them up using similar string methods.\n",
    "# Since that process will take a considerable amount of time we're going to finsih with our top 5 summary.\n",
    "print('The five most common journals by article count are:')\n",
    "top_five = wellcome['Journal title'].value_counts()[:5]\n",
    "print(top_five)"
   ]
  },
  {
   "cell_type": "code",
   "execution_count": 147,
   "metadata": {},
   "outputs": [],
   "source": [
    "plos_one_mean = wellcome.loc[lambda df: wellcome['Journal title'] == 'plos one', 'Cost'].mean()\n",
    "plos_one_median = wellcome.loc[lambda df: wellcome['Journal title'] == 'plos one', 'Cost'].median()\n",
    "plos_one_sd = wellcome.loc[lambda df: wellcome['Journal title'] == 'plos one', 'Cost'].std(ddof=1)\n",
    "\n",
    "jobc_mean = wellcome.loc[lambda df: wellcome['Journal title'] == 'journal of biological chemistry', 'Cost'].mean()\n",
    "jobc_median = wellcome.loc[lambda df: wellcome['Journal title'] == 'journal of biological chemistry', 'Cost'].median()\n",
    "jobc_sd = wellcome.loc[lambda df: wellcome['Journal title'] == 'journal of biological chemistry', 'Cost'].std(ddof=1)\n",
    "\n",
    "neuro_mean = wellcome.loc[lambda df: wellcome['Journal title'] == 'neuroimage', 'Cost'].mean()\n",
    "neuro_median = wellcome.loc[lambda df: wellcome['Journal title'] == 'neuroimage', 'Cost'].median()\n",
    "neuro_sd = wellcome.loc[lambda df: wellcome['Journal title'] == 'neuroimage', 'Cost'].std(ddof=1)\n",
    "\n",
    "nar_mean = wellcome.loc[lambda df: wellcome['Journal title'] == 'nucleic acids research', 'Cost'].mean()\n",
    "nar_median = wellcome.loc[lambda df: wellcome['Journal title'] == 'nucleic acids research', 'Cost'].median()\n",
    "nar_sd = wellcome.loc[lambda df: wellcome['Journal title'] == 'nucleic acids research', 'Cost'].std(ddof=1)\n",
    "\n",
    "plos_gen_mean = wellcome.loc[lambda df: wellcome['Journal title'] == 'plos genetics', 'Cost'].mean()\n",
    "plos_gen_median = wellcome.loc[lambda df: wellcome['Journal title'] == 'plos genetics', 'Cost'].median()\n",
    "plos_gen_sd = wellcome.loc[lambda df: wellcome['Journal title'] == 'plos genetics', 'Cost'].std(ddof=1)"
   ]
  },
  {
   "cell_type": "code",
   "execution_count": 154,
   "metadata": {},
   "outputs": [
    {
     "name": "stdout",
     "output_type": "stream",
     "text": [
      "The mean, median and standard deviation for Plos One equals $940.08, $896.99 and $214.23.\n",
      "\n",
      "The mean, median and standard deviation for the Journal of Biological Chemistry equals $1423.59, $1301.14 and $411.95.\n",
      "\n",
      "The mean, median and standard deviation for Neuroimage equals $2215.17, $2326.43 and $266.65.\n",
      "\n",
      "The mean, median and standard deviation for Nucleic Acids Research equals $1149.0, $852.0 and $442.94.\n",
      "\n",
      "The mean, median and standard deviation for Plos Genetics equals $1643.11, $1712.73 and $153.37.\n"
     ]
    }
   ],
   "source": [
    "print('The mean, median and standard deviation for Plos One equals ${}, ${} and ${}.'.format(\n",
    "    round(plos_one_mean, 2), round(plos_one_median, 2), round(plos_one_sd, 2)))\n",
    "print('')\n",
    "print('The mean, median and standard deviation for the Journal of Biological Chemistry equals ${}, ${} and ${}.'.format(\n",
    "    round(jobc_mean, 2), round(jobc_median, 2), round(jobc_sd, 2)))\n",
    "print('')\n",
    "print('The mean, median and standard deviation for Neuroimage equals ${}, ${} and ${}.'.format(\n",
    "    round(neuro_mean, 2), round(neuro_median, 2), round(neuro_sd, 2)))\n",
    "print('')\n",
    "print('The mean, median and standard deviation for Nucleic Acids Research equals ${}, ${} and ${}.'.format(\n",
    "    round(nar_mean, 2), round(nar_median, 2), round(nar_sd, 2)))\n",
    "print('')\n",
    "print('The mean, median and standard deviation for Plos Genetics equals ${}, ${} and ${}.'.format(\n",
    "    round(plos_gen_mean, 2), round(plos_gen_median, 2), round(plos_gen_sd, 2)))"
   ]
  }
 ],
 "metadata": {
  "kernelspec": {
   "display_name": "Python 3",
   "language": "python",
   "name": "python3"
  },
  "language_info": {
   "codemirror_mode": {
    "name": "ipython",
    "version": 3
   },
   "file_extension": ".py",
   "mimetype": "text/x-python",
   "name": "python",
   "nbconvert_exporter": "python",
   "pygments_lexer": "ipython3",
   "version": "3.6.5"
  }
 },
 "nbformat": 4,
 "nbformat_minor": 2
}
